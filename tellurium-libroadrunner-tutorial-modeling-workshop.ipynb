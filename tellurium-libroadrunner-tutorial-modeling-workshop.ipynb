{
 "cells": [
  {
   "cell_type": "markdown",
   "metadata": {
    "slideshow": {
     "slide_type": "slide"
    }
   },
   "source": [
    "<div align='center' style='font-size:100%'>Numerical Simulation of Computational Models with</div>\n",
    "<br>\n",
    "<div align='center'><img src=\"https://raw.githubusercontent.com/vporubsky/tellurium-libroadrunner-tutorial/master/tell-roadrunner.png\" width=\"75%\"></div>\n",
    "<div align='center' style='font-size:75%'>\n",
    "Veronica L. Porubsky, BS\n",
    "<div align='center' style='font-size:75%'>Sauro Lab PhD Student, Department of Bioengineering<br>\n",
    "Seminar Coordinator, <a href=\"https://reproduciblebiomodels.org/dissemination-and-training/seminar/\">Center for Reproducible Biomedical Modeling</a><br>\n",
    "University of Washington, Seattle, WA USA\n",
    "</div>\n",
    "<hr>"
   ]
  },
  {
   "cell_type": "markdown",
   "metadata": {
    "slideshow": {
     "slide_type": "skip"
    }
   },
   "source": [
    "Note: the layout of this Jupyter notebook is optimized for a <a href=\"https://rise.readthedocs.io/en/maint-5.5/\">RISE slideshow</a><br>"
   ]
  },
  {
   "cell_type": "markdown",
   "metadata": {
    "slideshow": {
     "slide_type": "slide"
    }
   },
   "source": [
    "# Primary developers\n",
    "<br>\n",
    "<br>\n",
    "<br>\n",
    "<div align='left'><img src=\"https://raw.githubusercontent.com/vporubsky/tellurium-libroadrunner-tutorial/master/acknowledgements1.png\" width=\"75%\"></div>"
   ]
  },
  {
   "cell_type": "markdown",
   "metadata": {
    "slideshow": {
     "slide_type": "slide"
    }
   },
   "source": [
    "# Links to relevant resources:\n",
    "\n",
    "<a href=\"https://github.com/sys-bio/tellurium#installation-instructions\">Tellurium installation instructions</a><br>\n",
    "<a href=\"https://tellurium.readthedocs.io/en/latest/\">Tellurium documentation</a><br>\n",
    "<a href=\"https://libroadrunner.readthedocs.io/en/latest/\">libRoadRunner documentation</a><br>\n",
    "<a href=\"https://nanohub.org/resources/tellurium\">Tellurium environment on nanoHUB</a><br>"
   ]
  },
  {
   "cell_type": "markdown",
   "metadata": {
    "slideshow": {
     "slide_type": "slide"
    }
   },
   "source": [
    "# What is kinetic modeling?"
   ]
  },
  {
   "cell_type": "markdown",
   "metadata": {
    "slideshow": {
     "slide_type": "fragment"
    }
   },
   "source": [
    "<ul>\n",
    "  <li>Chemical kinetics studies the factors that influence the rate of chemical reactions</li>\n",
    "     <ul class=\"square\">\n",
    "      <li>e.g. concentration, temperature, light, catalysts, etc. </li>\n",
    "     </ul>\n",
    "  <li>Chemical reaction networks are the framework for building all types of dynamical models</li>\n",
    "        <ul class=\"square\">\n",
    "          <li>Genetic circuits</li>\n",
    "          <li>Cell signaling pathways</li>\n",
    "          <li>Metabolic networks</li>\n",
    "        </ul>\n",
    "  <li>Types of kinetic models:</li>\n",
    "    <ul class=\"square\">\n",
    "      <li>Agent-based</li>\n",
    "      <li>Algebraic</li>\n",
    "      <li>Boolean</li>\n",
    "      <li>Constraint based</li>\n",
    "      <li>Differential equations</li>\n",
    "      <li>Statistical and machine learning methods</li>\n",
    "      <li>Stochastic</li>\n",
    "    </ul>\n",
    "</ul>"
   ]
  },
  {
   "cell_type": "markdown",
   "metadata": {
    "slideshow": {
     "slide_type": "slide"
    }
   },
   "source": [
    "# How does numerical simulation help us model kinetics?"
   ]
  },
  {
   "cell_type": "markdown",
   "metadata": {
    "slideshow": {
     "slide_type": "fragment"
    }
   },
   "source": [
    "<ul>\n",
    "  <li>Provides a method to approximate analytical solutions for complex (often non-linear) systems</li>\n",
    "  <li>Kinetic laws describe the rates of change of species in the system, which can be modeled mathematically</li>\n",
    "  <li>For a sufficiently large network, simulators must be efficient and perform rapid numerical integration</li>\n",
    "</ul>\n"
   ]
  },
  {
   "cell_type": "markdown",
   "metadata": {
    "slideshow": {
     "slide_type": "subslide"
    }
   },
   "source": [
    "# What are differential equations models?"
   ]
  },
  {
   "cell_type": "markdown",
   "metadata": {
    "slideshow": {
     "slide_type": "fragment"
    }
   },
   "source": [
    "<ul class=\"roman\">\n",
    " <li>Models which describe how variables in a system evolve over time</li>\n",
    " <ul class=\"square\">\n",
    "  <li>e.g. floating species concentrations</li>\n",
    " </ul>\n",
    " <li>Quantities are derived from the variables</li>\n",
    "  <ul class=\"square\">\n",
    "  <li>e.g. pathway flux</li>\n",
    " </ul>\n",
    " <li>Some parameters of the model are fixed by the modeler</li>\n",
    "   <ul class=\"square\">\n",
    "  <li>e.g. rate constants</li>\n",
    "  <li>e.g. enzyme concentrations</li>\n",
    "  <li>e.g. boundary species concentrations</li>\n",
    " </ul>\n",
    " <li>Deterministic differential equations models are useful when we can assume there are a large number of participants in the chemical reactions</li>\n",
    " <li>Stochastic models are useful for dilute systems in which reactions may not occur at every timepoint</li>\n",
    "</ul>"
   ]
  },
  {
   "cell_type": "markdown",
   "metadata": {
    "slideshow": {
     "slide_type": "subslide"
    }
   },
   "source": [
    "# Tellurium and libRoadRunner support rapid simulation and analysis of kinetic models\n",
    "\n",
    "<br>\n",
    "<div align='center'><img src=\"https://raw.githubusercontent.com/vporubsky/tellurium-libroadrunner-tutorial/master/tellurium-utilities.png\" width=\"75%\"></div>"
   ]
  },
  {
   "cell_type": "markdown",
   "metadata": {
    "slideshow": {
     "slide_type": "slide"
    }
   },
   "source": [
    "# Time to start modeling!"
   ]
  },
  {
   "cell_type": "markdown",
   "metadata": {
    "slideshow": {
     "slide_type": "slide"
    }
   },
   "source": [
    "# Importing relevant packages:"
   ]
  },
  {
   "cell_type": "code",
   "execution_count": 311,
   "metadata": {
    "slideshow": {
     "slide_type": "fragment"
    }
   },
   "outputs": [],
   "source": [
    "import tellurium as te # Python-based modeling environment for kinetic models\n",
    "import roadrunner as rr # High-performance simulation and analysis library\n",
    "import numpy as np # Scientific computing package\n",
    "import random # Generate random numbers\n",
    "import matplotlib.pylab as plt # Additional Python plotting utilities\n"
   ]
  },
  {
   "cell_type": "markdown",
   "metadata": {
    "slideshow": {
     "slide_type": "slide"
    }
   },
   "source": [
    "# Writing a simple model in the Antimony language\n",
    "\n",
    "\n",
    "<br>\n",
    "<div align='center'><img src=\"https://raw.githubusercontent.com/vporubsky/tellurium-libroadrunner-tutorial/master/simple-antimony.png\" width=\"75%\"></div>"
   ]
  },
  {
   "cell_type": "code",
   "execution_count": 312,
   "metadata": {
    "slideshow": {
     "slide_type": "subslide"
    }
   },
   "outputs": [],
   "source": [
    "Ant_str = \"\"\"\n",
    "model test               # name the model\n",
    "    compartment C1;      # specify compartments\n",
    "    C1 = 1.0;            # assign compartment volume\n",
    "    species S1, S2;\n",
    "\n",
    "    S1 = 10.0;           # assign species initial conditions\n",
    "    S2 = 0.0;\n",
    "    S1 in C1; S2 in C1;  # allocate species to appropriate compartment\n",
    "    J1: S1 -> S2; k1*S1; # reaction; reaction rate law;\n",
    "\n",
    "    k1 = 1.0;            # assign constant values to global parameters\n",
    "end\n",
    "\"\"\""
   ]
  },
  {
   "cell_type": "code",
   "execution_count": 313,
   "metadata": {
    "slideshow": {
     "slide_type": "subslide"
    }
   },
   "outputs": [
    {
     "data": {
      "image/png": "[encoded data removed]",
      "text/plain": [
       "<Figure size 576x432 with 1 Axes>"
      ]
     },
     "metadata": {},
     "output_type": "display_data"
    }
   ],
   "source": [
    "r = te.loada(Ant_str)  # create an executable model by loading the string to a RoadRunner object instance\n",
    "r.simulate(0, 10, 100) # simulate(time_start, time_end, number_of_points)\n",
    "r.plot(title = 'Uni-uni mass-action model', xtitle = 'Time', ytitle = 'Concentration', figsize = (8, 6)) \n",
    "\n"
   ]
  },
  {
   "cell_type": "markdown",
   "metadata": {
    "slideshow": {
     "slide_type": "slide"
    }
   },
   "source": [
    "# Adding events to an Antimony string"
   ]
  },
  {
   "cell_type": "code",
   "execution_count": 314,
   "metadata": {
    "slideshow": {
     "slide_type": "slide"
    }
   },
   "outputs": [
    {
     "data": {
      "image/png": "[encoded data removed]",
      "text/plain": [
       "<Figure size 576x432 with 1 Axes>"
      ]
     },
     "metadata": {},
     "output_type": "display_data"
    }
   ],
   "source": [
    "Ant_str = \"\"\"\n",
    "model test               # name the model\n",
    "    compartment C1;      # specify compartments\n",
    "    C1 = 1.0;            # assign compartment volume\n",
    "    species S1, S2;\n",
    "\n",
    "    S1 = 10.0;           # assign species initial conditions\n",
    "    S2 = 0.0;\n",
    "    S1 in C1; S2 in C1;  # allocate species to appropriate compartment\n",
    "    J1: S1 -> S2; k1*S1; # reaction; reaction rate law;\n",
    "\n",
    "    k1 = 1.0;            # assign constant values to global parameters\n",
    "    \n",
    "    E1: at (time > 5): S1 = 10; # add an event - spike in S1\n",
    "end\n",
    "\"\"\"\n",
    "r = te.loada(Ant_str)  # create an executable model by loading the string to a RoadRunner object instance\n",
    "r.simulate(0, 10, 100) # simulate(time_start, time_end, number_of_points)\n",
    "r.plot(title = 'Uni-uni mass-action model with event', xtitle = 'Time', ytitle = 'Concentration', figsize = (8, 6)) \n",
    "\n"
   ]
  },
  {
   "cell_type": "code",
   "execution_count": null,
   "metadata": {
    "slideshow": {
     "slide_type": "subslide"
    }
   },
   "outputs": [],
   "source": [
    "ant_str = \"\"\"\n",
    "model test               # name the model\n",
    "    compartment C1;      # specify compartments\n",
    "    C1 = 1.0;            # assign compartment volume\n",
    "    species S1, S2;\n",
    "\n",
    "    S1 = 10.0;           # assign species initial conditions\n",
    "    S2 = 0.0;\n",
    "    S1 in C1; S2 in C1;  # allocate species to appropriate compartment\n",
    "    J1: S1 -> S2; k1*S1; # reaction; reaction rate law;\n",
    "\n",
    "    k1 = 1.0;            # assign constant values to global parameters\n",
    "    \n",
    "    E1: at (S1 < 0.005): S1 = 10; # add an event - spike in S1\n",
    "end\n",
    "\"\"\"\n",
    "r = te.loada(ant_str)  # create an executable model by loading the string to a RoadRunner object instance\n",
    "r.simulate(0, 10, 100) # simulate(time_start, time_end, number_of_points)\n",
    "r.plot(title = 'Uni-uni mass-action model with event', xtitle = 'Time', ytitle = 'Concentration', figsize = (8, 6)) \n",
    "\n"
   ]
  },
  {
   "cell_type": "markdown",
   "metadata": {
    "slideshow": {
     "slide_type": "slide"
    }
   },
   "source": [
    "# Stochastic simulation with Gillespie algorithm\n"
   ]
  },
  {
   "cell_type": "code",
   "execution_count": null,
   "metadata": {
    "slideshow": {
     "slide_type": "slide"
    }
   },
   "outputs": [],
   "source": [
    "r = te.loada('S1 -> S2; k1*S1; k1 = 0.1; S1 = 40')\n",
    "r.integrator = 'gillespie'\n",
    "r.integrator.seed = 1234 # Can set the seed value for the random number generator to obtain a deterministic distribution\n",
    "\n",
    "multi_run_result = []\n",
    "for k in range(1, 50):\n",
    "    r.reset()\n",
    "    result = r.simulate(0, 40)\n",
    "    multi_run_result.append(result)\n",
    "    te.plotArray(result, show=False, alpha=0.6) # setting alpha value changes trajectory opacity\n",
    "te.show()"
   ]
  },
  {
   "cell_type": "code",
   "execution_count": 290,
   "metadata": {
    "slideshow": {
     "slide_type": "slide"
    }
   },
   "outputs": [
    {
     "data": {
      "image/png": "[encoded data removed]",
      "text/plain": [
       "<Figure size 432x288 with 1 Axes>"
      ]
     },
     "metadata": {
      "needs_background": "light"
     },
     "output_type": "display_data"
    }
   ],
   "source": [
    "r = te.loada('S1 -> S2; k1*S1; k1 = 0.1; S1 = 40')\n",
    "# if a seed value is not set, each run will return slightly different results that approximate the same distribution\n",
    "\n",
    "results = []\n",
    "for k in range(1, 50):\n",
    "    r.reset()\n",
    "    s = r.gillespie(0, 40)\n",
    "    results.append(s)\n",
    "    te.plotArray(s, show=False, alpha=0.6)\n",
    "te.show()"
   ]
  },
  {
   "cell_type": "markdown",
   "metadata": {
    "slideshow": {
     "slide_type": "slide"
    }
   },
   "source": [
    "# Writing an Antimony model with interactions\n",
    "<br>\n",
    "Repressilator circuit from Elowitz & Liebler (2000):\n",
    "<div align='center'><img src=\"https://raw.githubusercontent.com/vporubsky/tellurium-libroadrunner-tutorial/master/repressilator.png\" width=\"40%\"></div>"
   ]
  },
  {
   "cell_type": "code",
   "execution_count": null,
   "metadata": {
    "slideshow": {
     "slide_type": "slide"
    }
   },
   "outputs": [],
   "source": [
    "ant_str = \"\"\"\n",
    "// Compartments and Species:\n",
    "species M1, P3, P1, M2, P2, M3;\n",
    "\n",
    "// Reactions:\n",
    "J0:  -> M1; a_m1*(Kr_P3^n1/(Kr_P3^n1 + P3^n1)) + leak1;\n",
    "J1: M1 -> ; d_m1*M1;\n",
    "J2:  -> P1; a_p1*M1;\n",
    "J3: P1 -> ; d_p1*P1;\n",
    "J4:  -> M2; a_m2*(Kr_P1^n2/(Kr_P1^n2 + P1^n2)) + leak2;\n",
    "J5: M2 -> ; d_m2*M2;\n",
    "J6:  -> P2; a_p2*M2;\n",
    "J7: P2 -> ; d_p2*P2;\n",
    "J8:  -> M3; a_m3*(Kr_P2^n3/(Kr_P2^n3 + P2^n3)) + leak3;\n",
    "J9: M3 -> ; d_m3*M3;\n",
    "J10:  -> P3; a_p3*M3;\n",
    "J11: P3 -> ; d_p3*P3;\n",
    "\n",
    "// Species initializations:\n",
    "M1 = 2.03249447573567;\n",
    "P3 = 7.5809668611914;\n",
    "P1 = 7.32165894379353;\n",
    "M2 = 1.31711279301053;\n",
    "P2 = 2.49875382117871;\n",
    "M3 = 8.25783133141464;\n",
    "\n",
    "// Variable initializations:\n",
    "a_m1 = 0.788266186959804;\n",
    "Kr_P3 = 0.814775285390223;\n",
    "n1 = 6.67056125568989;\n",
    "leak1 = 0.160823871809731;\n",
    "d_m1 = 3.33960526593243;\n",
    "a_p1 = 3.97131795533734;\n",
    "d_p1 = 0.683167309351405;\n",
    "a_m2 = 9.99777500805325;\n",
    "Kr_P1 = 0.674695295333568;\n",
    "n2 = 3.75940824338219;\n",
    "leak2 = 4.40965305734082e-07;\n",
    "d_m2 = 3.69127808679613;\n",
    "a_p2 = 8.77481400405659;\n",
    "d_p2 = 2.93762312105978;\n",
    "a_m3 = 9.48399601890087;\n",
    "Kr_P2 = 3.24536057975687;\n",
    "n3 = 2.61562411515969;\n",
    "leak3 = 4.67591640677641e-15;\n",
    "d_m3 = 0.330348948379899;\n",
    "a_p3 = 0.545154747154472;\n",
    "d_p3 = 2.41482917873538;\n",
    "\n",
    "// Other declarations:\n",
    "const a_m1, Kr_P3, n1, leak1, d_m1, a_p1, d_p1, a_m2, Kr_P1, n2, leak2, d_m2;\n",
    "const a_p2, d_p2, a_m3, Kr_P2, n3, leak3, d_m3, a_p3, d_p3;\n",
    "\"\"\"\n",
    "repressilator_ant = te.loada(ant_str)\n",
    "repressilator_ant.simulate(0, 30, 100)\n",
    "repressilator_ant.plot()\n"
   ]
  },
  {
   "cell_type": "markdown",
   "metadata": {
    "slideshow": {
     "slide_type": "slide"
    }
   },
   "source": [
    "# Human-readable Antimony string"
   ]
  },
  {
   "cell_type": "code",
   "execution_count": null,
   "metadata": {
    "slideshow": {
     "slide_type": "slide"
    }
   },
   "outputs": [],
   "source": [
    "#%% repressilator model SBML\n",
    "print(repressilator_ant.getCurrentSBML())\n"
   ]
  },
  {
   "cell_type": "code",
   "execution_count": null,
   "metadata": {
    "slideshow": {
     "slide_type": "slide"
    }
   },
   "outputs": [],
   "source": [
    "#%% repressilator model Antimony string\n",
    "print(repressilator_ant.getAntimony())"
   ]
  },
  {
   "cell_type": "markdown",
   "metadata": {
    "slideshow": {
     "slide_type": "slide"
    }
   },
   "source": [
    "# Import and export capabilities with Tellurium"
   ]
  },
  {
   "cell_type": "markdown",
   "metadata": {
    "slideshow": {
     "slide_type": "fragment"
    }
   },
   "source": [
    "<div align='center'><img src=\"https://raw.githubusercontent.com/vporubsky/tellurium-libroadrunner-tutorial/master/wolf_publication.PNG\" width=\"65%\"></div>"
   ]
  },
  {
   "cell_type": "markdown",
   "metadata": {
    "slideshow": {
     "slide_type": "fragment"
    }
   },
   "source": [
    "<div align='center'><img src=\"https://raw.githubusercontent.com/vporubsky/tellurium-libroadrunner-tutorial/master/wolf_network.PNG\" width=\"65%\"></div>"
   ]
  },
  {
   "cell_type": "code",
   "execution_count": null,
   "metadata": {
    "slideshow": {
     "slide_type": "slide"
    }
   },
   "outputs": [],
   "source": [
    "#%% You can load an SBML model directly from the BioModels Database, given the BioModel ID\n",
    "wolf = te.loadSBMLModel(\"http://www.ebi.ac.uk/biomodels-main/download?mid=BIOMD0000000090\")\n",
    "wolf.simulate(0, 100, 1000)\n",
    "wolf.plot(figsize = (10, 6), xtitle = 'Time', ytitle = 'Concentration')\n",
    " "
   ]
  },
  {
   "cell_type": "code",
   "execution_count": null,
   "metadata": {
    "slideshow": {
     "slide_type": "subslide"
    }
   },
   "outputs": [],
   "source": [
    "# Export the model you just accessed from BioModels to the current directory as an SBML string\n",
    "wolf.reset()\n",
    "wolf.getFloatingSpeciesConcentrationIds()\n",
    "wolf.exportToAntimony('wolf.txt', current = True)\n",
    "# wolf.exportToSBML('wolf.xml', current = True)"
   ]
  },
  {
   "cell_type": "code",
   "execution_count": null,
   "metadata": {
    "slideshow": {
     "slide_type": "slide"
    }
   },
   "outputs": [],
   "source": [
    "wolf = te.loada('wolf.txt') # load the Antimony string you just saved to the working directory\n",
    "wolf.simulate(0, 200, 1000)\n",
    "wolf.plot(figsize = (15, 10), xtitle = 'Time', ytitle = 'Concentration')\n"
   ]
  },
  {
   "cell_type": "markdown",
   "metadata": {
    "slideshow": {
     "slide_type": "slide"
    }
   },
   "source": [
    "# Useful matrices and vectors"
   ]
  },
  {
   "cell_type": "code",
   "execution_count": null,
   "metadata": {
    "slideshow": {
     "slide_type": "subslide"
    }
   },
   "outputs": [],
   "source": [
    "r = te.loada('S1 -> S2; k1*S1; k1 = 0.1; S1 = 40')\n",
    "\n",
    "# The stoichiometry matrix\n",
    "print(r.getFullStoichiometryMatrix())\n",
    "# short-cut\n",
    "print(r.sm())"
   ]
  },
  {
   "cell_type": "code",
   "execution_count": null,
   "metadata": {
    "slideshow": {
     "slide_type": "subslide"
    }
   },
   "outputs": [],
   "source": [
    "# The Jacobian matrix\n",
    "print(r.getFullJacobian())\n",
    "# short-cut\n",
    "print(r.fjac())\n",
    "\n"
   ]
  },
  {
   "cell_type": "code",
   "execution_count": null,
   "metadata": {
    "slideshow": {
     "slide_type": "slide"
    }
   },
   "outputs": [],
   "source": [
    "# reaction rate vector\n",
    "print(r.getReactionRates())\n",
    "# short-cut\n",
    "print(r.rv())\n"
   ]
  },
  {
   "cell_type": "code",
   "execution_count": null,
   "metadata": {
    "slideshow": {
     "slide_type": "slide"
    }
   },
   "outputs": [],
   "source": [
    "# the rate of change vector\n",
    "print(r.getRatesOfChange())\n",
    "# short-cut\n",
    "print(r.dv())\n"
   ]
  },
  {
   "cell_type": "code",
   "execution_count": null,
   "metadata": {
    "slideshow": {
     "slide_type": "slide"
    }
   },
   "outputs": [],
   "source": [
    "# the species concentration vector\n",
    "print(r.getFloatingSpeciesConcentrations())\n",
    "# short-cut\n",
    "print(r.sv())"
   ]
  },
  {
   "cell_type": "code",
   "execution_count": null,
   "metadata": {
    "slideshow": {
     "slide_type": "slide"
    }
   },
   "outputs": [],
   "source": [
    "# the names of all floating species\n",
    "print(r.getFloatingSpeciesIds())\n",
    "# short-cut\n",
    "print(r.fs())"
   ]
  },
  {
   "cell_type": "code",
   "execution_count": null,
   "metadata": {
    "slideshow": {
     "slide_type": "slide"
    }
   },
   "outputs": [],
   "source": [
    "# the names of all kinetic parameters in the model\n",
    "print(r.getGlobalParameterIds())\n",
    "# short-cut\n",
    "print(r.ps())"
   ]
  },
  {
   "cell_type": "markdown",
   "metadata": {
    "slideshow": {
     "slide_type": "slide"
    }
   },
   "source": [
    "# Advanced analysis with Tellurium"
   ]
  },
  {
   "cell_type": "code",
   "execution_count": 306,
   "metadata": {
    "slideshow": {
     "slide_type": "slide"
    }
   },
   "outputs": [
    {
     "name": "stdout",
     "output_type": "stream",
     "text": [
      "[0.39130435]\n",
      "[0.39130435]\n"
     ]
    }
   ],
   "source": [
    "#%% Computing Steady State\n",
    "r.reset()\n",
    "r.steadyState() # Bring the model to steady state using a steady state solver\n",
    "print(r.getFloatingSpeciesConcentrations())\n",
    "\n",
    "# short-cut\n",
    "print(r.sv())"
   ]
  },
  {
   "cell_type": "code",
   "execution_count": 303,
   "metadata": {
    "slideshow": {
     "slide_type": "slide"
    }
   },
   "outputs": [
    {
     "data": {
      "image/png": "[encoded data removed]",
      "text/plain": [
       "<Figure size 432x288 with 1 Axes>"
      ]
     },
     "metadata": {
      "needs_background": "light"
     },
     "output_type": "display_data"
    }
   ],
   "source": [
    "#%% Parameter scans and plotting -- example of flexibility with Python programming\n",
    "r = te.loada('''\n",
    "   J1: $X0 -> S1; k1*X0;\n",
    "   J2: S1 -> $X1; k2*S1;\n",
    "   \n",
    "   X0 = 1.0; S1 = 0.0; X1 = 0.0;\n",
    "   k1 = 0.4; k2 = 2.3;\n",
    "''')\n",
    "\n",
    "for k1 in np.arange(0.4, 1, 0.1):\n",
    "    r.k1 = k1\n",
    "    r.reset()\n",
    "    result = r.simulate(0, 4, 100, ['time', 'S1'])\n",
    "    plt.plot(result['time'], result['S1'], label = 'k1 = ' + format(k1, \".1f\"))\n",
    "\n",
    "plt.legend(loc = 'lower right')\n",
    "plt.xlabel('Time'); plt.ylabel('[S1]')\n",
    "plt.show()\n"
   ]
  },
  {
   "cell_type": "markdown",
   "metadata": {
    "slideshow": {
     "slide_type": "slide"
    }
   },
   "source": [
    "# Changing integrator and steady state solver settings with libRoadRunner"
   ]
  },
  {
   "cell_type": "code",
   "execution_count": null,
   "metadata": {
    "slideshow": {
     "slide_type": "slide"
    }
   },
   "outputs": [],
   "source": [
    "print(rr.integrators) # shows the integrators implemented in tellurium\n",
    "\n",
    "# cvode "
   ]
  },
  {
   "cell_type": "code",
   "execution_count": null,
   "metadata": {
    "slideshow": {
     "slide_type": "subslide"
    }
   },
   "outputs": [],
   "source": [
    "print(rr.steadyStateSolvers) # shows the steady state solvers currently implemented"
   ]
  },
  {
   "cell_type": "code",
   "execution_count": 302,
   "metadata": {
    "slideshow": {
     "slide_type": "subslide"
    }
   },
   "outputs": [
    {
     "name": "stdout",
     "output_type": "stream",
     "text": [
      "< roadrunner.SteadyStateSolver() >\n",
      "  name: nleq2\n",
      "  settings:\n",
      "     allow_presimulation: true\n",
      "    presimulation_maximum_steps: 100\n",
      "      presimulation_time: 100\n",
      "            allow_approx: true\n",
      "        approx_tolerance: 0.000001\n",
      "    approx_maximum_steps: 10000\n",
      "             approx_time: 10000\n",
      "      relative_tolerance: 0.000000000001\n",
      "      maximum_iterations: 100\n",
      "         minimum_damping: 1e-20\n",
      "          broyden_method: 0\n",
      "               linearity: 3\n",
      "\n"
     ]
    }
   ],
   "source": [
    "print(r.getSteadyStateSolver()) # shows the settings for the steady state solver\n"
   ]
  },
  {
   "cell_type": "code",
   "execution_count": 310,
   "metadata": {
    "slideshow": {
     "slide_type": "subslide"
    }
   },
   "outputs": [],
   "source": [
    "r.steadyStateSolver.approx_maximum_steps = 12000 # change the settings for the steady state solver\n"
   ]
  },
  {
   "cell_type": "markdown",
   "metadata": {
    "slideshow": {
     "slide_type": "slide"
    }
   },
   "source": [
    "# Acknowledgements\n",
    "<br>\n",
    "<div align='left'><img src=\"https://raw.githubusercontent.com/vporubsky/tellurium-libroadrunner-tutorial/master/acknowledgements2.png\" width=\"80%\"></div>"
   ]
  }
 ],
 "metadata": {
  "celltoolbar": "Slideshow",
  "kernelspec": {
   "display_name": "Python 3",
   "language": "python",
   "name": "python3"
  },
  "language_info": {
   "codemirror_mode": {
    "name": "ipython",
    "version": 3
   },
   "file_extension": ".py",
   "mimetype": "text/x-python",
   "name": "python",
   "nbconvert_exporter": "python",
   "pygments_lexer": "ipython3",
   "version": "3.6.5"
  },
  "rise": {
   "scroll": true
  }
 },
 "nbformat": 4,
 "nbformat_minor": 2
}
